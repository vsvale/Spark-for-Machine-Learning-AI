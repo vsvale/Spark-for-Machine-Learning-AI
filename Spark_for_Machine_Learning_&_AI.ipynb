{
  "nbformat": 4,
  "nbformat_minor": 0,
  "metadata": {
    "colab": {
      "name": "Spark for Machine Learning & AI.ipynb",
      "provenance": [],
      "collapsed_sections": [],
      "toc_visible": true,
      "authorship_tag": "ABX9TyPwRxy8STmSFXUVb+u4/9R+",
      "include_colab_link": true
    },
    "kernelspec": {
      "name": "python3",
      "display_name": "Python 3"
    },
    "language_info": {
      "name": "python"
    }
  },
  "cells": [
    {
      "cell_type": "markdown",
      "metadata": {
        "id": "view-in-github",
        "colab_type": "text"
      },
      "source": [
        "<a href=\"https://colab.research.google.com/github/vsvale/Spark-for-Machine-Learning-AI/blob/main/Spark_for_Machine_Learning_%26_AI.ipynb\" target=\"_parent\"><img src=\"https://colab.research.google.com/assets/colab-badge.svg\" alt=\"Open In Colab\"/></a>"
      ]
    },
    {
      "cell_type": "code",
      "metadata": {
        "id": "G9_gP8tp49Sh"
      },
      "source": [
        "%%capture\n",
        "!pip install pyspark\n",
        "import pyspark\n",
        "from pyspark.sql import SparkSession\n",
        "spark = SparkSession.builder.getOrCreate()"
      ],
      "execution_count": null,
      "outputs": []
    },
    {
      "cell_type": "code",
      "metadata": {
        "colab": {
          "base_uri": "https://localhost:8080/"
        },
        "id": "QAksD7g-yVH0",
        "outputId": "9220e356-6428-4b3a-89e5-12c6a283af02"
      },
      "source": [
        "!git clone https://github.com/vsvale/Spark-for-Machine-Learning-AI.git"
      ],
      "execution_count": null,
      "outputs": [
        {
          "output_type": "stream",
          "text": [
            "Cloning into 'Spark-for-Machine-Learning-AI'...\n",
            "remote: Enumerating objects: 8, done.\u001b[K\n",
            "remote: Counting objects: 100% (8/8), done.\u001b[K\n",
            "remote: Compressing objects: 100% (6/6), done.\u001b[K\n",
            "remote: Total 8 (delta 0), reused 0 (delta 0), pack-reused 0\u001b[K\n",
            "Unpacking objects: 100% (8/8), done.\n"
          ],
          "name": "stdout"
        }
      ]
    },
    {
      "cell_type": "markdown",
      "metadata": {
        "id": "vkVfODrZ6k7y"
      },
      "source": [
        "# Employee Dataset"
      ]
    },
    {
      "cell_type": "code",
      "metadata": {
        "id": "7z1fcDtgzWmp"
      },
      "source": [
        "employee = spark.read.csv('/content/Spark-for-Machine-Learning-AI/datasets/employee.txt',header=True,quote=\"'\")"
      ],
      "execution_count": null,
      "outputs": []
    },
    {
      "cell_type": "code",
      "metadata": {
        "colab": {
          "base_uri": "https://localhost:8080/"
        },
        "id": "csK7MykA0utc",
        "outputId": "5d7d1ee2-0442-4938-b6b0-29a95e3c504f"
      },
      "source": [
        "employee.show(5)"
      ],
      "execution_count": null,
      "outputs": [
        {
          "output_type": "stream",
          "text": [
            "+---+---------+--------------------+------+----------+----------+------+--------------------+---------+\n",
            "| id|last_name|               email|gender|department|start_date|salary|           job_title|region_id|\n",
            "+---+---------+--------------------+------+----------+----------+------+--------------------+---------+\n",
            "|  1|   Kelley|rkelley0@soundclo...|Female| Computers| 10/2/2009| 67470| Structural Engineer|        2|\n",
            "|  2|Armstrong|sarmstrong1@infos...|  Male|    Sports| 3/31/2008| 71869|   Financial Advisor|        2|\n",
            "|  3|     Carr|fcarr2@woothemes.com|  Male|Automotive| 7/12/2009|101768|  Recruiting Manager|        3|\n",
            "|  4|   Murray|     jmurray3@gov.uk|Female|  Jewelery|12/25/2014| 96897|Desktop Support T...|        3|\n",
            "|  5|    Ellis|jellis4@sciencedi...|Female|   Grocery| 9/19/2002| 63702|Software Engineer...|        7|\n",
            "+---+---------+--------------------+------+----------+----------+------+--------------------+---------+\n",
            "only showing top 5 rows\n",
            "\n"
          ],
          "name": "stdout"
        }
      ]
    },
    {
      "cell_type": "code",
      "metadata": {
        "colab": {
          "base_uri": "https://localhost:8080/"
        },
        "id": "Xwm1E_D45tcW",
        "outputId": "09a6310f-7634-4b03-9ae4-a214b51fa017"
      },
      "source": [
        "employee.take(5)"
      ],
      "execution_count": null,
      "outputs": [
        {
          "output_type": "execute_result",
          "data": {
            "text/plain": [
              "[Row(id='1', last_name='Kelley', email='rkelley0@soundcloud.com', gender='Female', department='Computers', start_date='10/2/2009', salary='67470', job_title='Structural Engineer', region_id='2'),\n",
              " Row(id='2', last_name='Armstrong', email='sarmstrong1@infoseek.co.jp', gender='Male', department='Sports', start_date='3/31/2008', salary='71869', job_title='Financial Advisor', region_id='2'),\n",
              " Row(id='3', last_name='Carr', email='fcarr2@woothemes.com', gender='Male', department='Automotive', start_date='7/12/2009', salary='101768', job_title='Recruiting Manager', region_id='3'),\n",
              " Row(id='4', last_name='Murray', email='jmurray3@gov.uk', gender='Female', department='Jewelery', start_date='12/25/2014', salary='96897', job_title='Desktop Support Technician', region_id='3'),\n",
              " Row(id='5', last_name='Ellis', email='jellis4@sciencedirect.com', gender='Female', department='Grocery', start_date='9/19/2002', salary='63702', job_title='Software Engineer III', region_id='7')]"
            ]
          },
          "metadata": {
            "tags": []
          },
          "execution_count": 5
        }
      ]
    },
    {
      "cell_type": "code",
      "metadata": {
        "colab": {
          "base_uri": "https://localhost:8080/"
        },
        "id": "Aj7KQSxC5bmX",
        "outputId": "217a875a-cd17-43d2-cbb6-ec069fb826ce"
      },
      "source": [
        "employee.printSchema()"
      ],
      "execution_count": null,
      "outputs": [
        {
          "output_type": "stream",
          "text": [
            "root\n",
            " |-- id: string (nullable = true)\n",
            " |-- last_name: string (nullable = true)\n",
            " |-- email: string (nullable = true)\n",
            " |-- gender: string (nullable = true)\n",
            " |-- department: string (nullable = true)\n",
            " |-- start_date: string (nullable = true)\n",
            " |-- salary: string (nullable = true)\n",
            " |-- job_title: string (nullable = true)\n",
            " |-- region_id: string (nullable = true)\n",
            "\n"
          ],
          "name": "stdout"
        }
      ]
    },
    {
      "cell_type": "code",
      "metadata": {
        "colab": {
          "base_uri": "https://localhost:8080/"
        },
        "id": "nvSvkJOZ5fd2",
        "outputId": "895e2064-bc58-4be1-a01d-ddbf53954c5f"
      },
      "source": [
        "employee.columns"
      ],
      "execution_count": null,
      "outputs": [
        {
          "output_type": "execute_result",
          "data": {
            "text/plain": [
              "['id',\n",
              " 'last_name',\n",
              " 'email',\n",
              " 'gender',\n",
              " 'department',\n",
              " 'start_date',\n",
              " 'salary',\n",
              " 'job_title',\n",
              " 'region_id']"
            ]
          },
          "metadata": {
            "tags": []
          },
          "execution_count": 7
        }
      ]
    },
    {
      "cell_type": "code",
      "metadata": {
        "colab": {
          "base_uri": "https://localhost:8080/"
        },
        "id": "ine1EFaN5kXl",
        "outputId": "b36ff35a-3a86-4edc-b5ef-a78ddbc4653a"
      },
      "source": [
        "employee.count()"
      ],
      "execution_count": null,
      "outputs": [
        {
          "output_type": "execute_result",
          "data": {
            "text/plain": [
              "1000"
            ]
          },
          "metadata": {
            "tags": []
          },
          "execution_count": 8
        }
      ]
    },
    {
      "cell_type": "markdown",
      "metadata": {
        "id": "3YPdDqBw6gnI"
      },
      "source": [
        "# Amostra do Dataset"
      ]
    },
    {
      "cell_type": "code",
      "metadata": {
        "colab": {
          "base_uri": "https://localhost:8080/"
        },
        "id": "zUAxLigZ6HCp",
        "outputId": "602dcd64-b811-4416-a93b-e90c2d209d6a"
      },
      "source": [
        "sample_df = employee.sample(False,0.1,seed=1) \n",
        "sample_df.show(5)"
      ],
      "execution_count": null,
      "outputs": [
        {
          "output_type": "stream",
          "text": [
            "+---+---------+--------------------+------+-----------+----------+------+--------------------+---------+\n",
            "| id|last_name|               email|gender| department|start_date|salary|           job_title|region_id|\n",
            "+---+---------+--------------------+------+-----------+----------+------+--------------------+---------+\n",
            "|  4|   Murray|     jmurray3@gov.uk|Female|   Jewelery|12/25/2014| 96897|Desktop Support T...|        3|\n",
            "| 19|      Day|rdayi@chronoengin...|  Male|Electronics| 9/22/2004|109890|            VP Sales|        3|\n",
            "| 21|   Bryant|sbryantk@wundergr...|Female| Industrial| 8/12/2005| 78052| Software Consultant|        3|\n",
            "| 25| Stephens|    jstephenso@ow.ly|  Male|       Toys|  6/4/2004| 70613|Business Systems ...|        1|\n",
            "| 51|    Dixon|    jdixon1e@dot.gov|  Male|       Baby| 9/26/2006|106281|    Senior Developer|        3|\n",
            "+---+---------+--------------------+------+-----------+----------+------+--------------------+---------+\n",
            "only showing top 5 rows\n",
            "\n"
          ],
          "name": "stdout"
        }
      ]
    },
    {
      "cell_type": "code",
      "metadata": {
        "colab": {
          "base_uri": "https://localhost:8080/"
        },
        "id": "rJCTJ1im6Y2Y",
        "outputId": "35cb4691-780e-4c6b-ee9c-1a3b2fd5c92d"
      },
      "source": [
        "sample_df.count()"
      ],
      "execution_count": null,
      "outputs": [
        {
          "output_type": "execute_result",
          "data": {
            "text/plain": [
              "105"
            ]
          },
          "metadata": {
            "tags": []
          },
          "execution_count": 10
        }
      ]
    },
    {
      "cell_type": "code",
      "metadata": {
        "id": "D9pGRBT-7JoO"
      },
      "source": [
        "from pyspark.sql.functions import col"
      ],
      "execution_count": null,
      "outputs": []
    },
    {
      "cell_type": "code",
      "metadata": {
        "colab": {
          "base_uri": "https://localhost:8080/"
        },
        "id": "YMgdnCVn6olN",
        "outputId": "effbf7e9-17ed-4ee0-d7f0-b1f880f6f02b"
      },
      "source": [
        "managers_df = employee.filter(col('salary')>= 100000)\n",
        "managers_df.show(5)"
      ],
      "execution_count": null,
      "outputs": [
        {
          "output_type": "stream",
          "text": [
            "+---+---------+--------------------+------+----------+----------+------+--------------------+---------+\n",
            "| id|last_name|               email|gender|department|start_date|salary|           job_title|region_id|\n",
            "+---+---------+--------------------+------+----------+----------+------+--------------------+---------+\n",
            "|  3|     Carr|fcarr2@woothemes.com|  Male|Automotive| 7/12/2009|101768|  Recruiting Manager|        3|\n",
            "|  6| Phillips| bphillips5@time.com|  Male|     Tools| 8/21/2013|118497| Executive Secretary|        1|\n",
            "|  9|    James|rjames8@prnewswir...|  Male|  Jewelery|  9/7/2005|108657|     Sales Associate|        2|\n",
            "| 10|  Sanchez|rsanchez9@cloudfl...|  Male|    Movies| 3/13/2013|108093|Sales Representative|        1|\n",
            "| 11|   Jacobs| jjacobsa@sbwire.com|Female|  Jewelery|11/27/2003|121966|Community Outreac...|        7|\n",
            "+---+---------+--------------------+------+----------+----------+------+--------------------+---------+\n",
            "only showing top 5 rows\n",
            "\n"
          ],
          "name": "stdout"
        }
      ]
    },
    {
      "cell_type": "code",
      "metadata": {
        "colab": {
          "base_uri": "https://localhost:8080/"
        },
        "id": "3KHgrh_l7lDs",
        "outputId": "75851b69-1874-4c35-98d6-15b93d444732"
      },
      "source": [
        "managers_df.count()"
      ],
      "execution_count": null,
      "outputs": [
        {
          "output_type": "execute_result",
          "data": {
            "text/plain": [
              "478"
            ]
          },
          "metadata": {
            "tags": []
          },
          "execution_count": 13
        }
      ]
    },
    {
      "cell_type": "markdown",
      "metadata": {
        "id": "bez2WqAXJJzq"
      },
      "source": [
        "# Preprocessing"
      ]
    },
    {
      "cell_type": "markdown",
      "metadata": {
        "id": "c2hCk9GM9-Cu"
      },
      "source": [
        "## Normalizing"
      ]
    },
    {
      "cell_type": "code",
      "metadata": {
        "id": "ckFVTbfL7nBK"
      },
      "source": [
        "from pyspark.ml.feature import MinMaxScaler\n",
        "from pyspark.ml.linalg import Vectors"
      ],
      "execution_count": null,
      "outputs": []
    },
    {
      "cell_type": "code",
      "metadata": {
        "id": "NG2wT0uy-VGm"
      },
      "source": [
        "features_df = spark.createDataFrame([\\\n",
        "                                     (1,Vectors.dense([10.0,10000.0,1.0]),),\\\n",
        "                                     (2,Vectors.dense([20.0,30000.0,2.0]),),\\\n",
        "                                     (3,Vectors.dense([30.0,40000.0,3.0]),)\\\n",
        "                                      ],['id','features'])"
      ],
      "execution_count": null,
      "outputs": []
    },
    {
      "cell_type": "code",
      "metadata": {
        "colab": {
          "base_uri": "https://localhost:8080/"
        },
        "id": "0g6tpNO51pac",
        "outputId": "5c901fea-9530-45d7-a1a7-189117b4f4df"
      },
      "source": [
        "features_df.show()"
      ],
      "execution_count": null,
      "outputs": [
        {
          "output_type": "stream",
          "text": [
            "+---+------------------+\n",
            "| id|          features|\n",
            "+---+------------------+\n",
            "|  1|[10.0,10000.0,1.0]|\n",
            "|  2|[20.0,30000.0,2.0]|\n",
            "|  3|[30.0,40000.0,3.0]|\n",
            "+---+------------------+\n",
            "\n"
          ],
          "name": "stdout"
        }
      ]
    },
    {
      "cell_type": "code",
      "metadata": {
        "colab": {
          "base_uri": "https://localhost:8080/"
        },
        "id": "uHt39LBH2q1D",
        "outputId": "47d3a971-03ff-4d30-a506-2a2b3d8abf8e"
      },
      "source": [
        "scaler = MinMaxScaler(inputCol='features',outputCol='scal_feat').fit(features_df).transform(features_df)\n",
        "scaler.show()"
      ],
      "execution_count": null,
      "outputs": [
        {
          "output_type": "stream",
          "text": [
            "+---+------------------+--------------------+\n",
            "| id|          features|           scal_feat|\n",
            "+---+------------------+--------------------+\n",
            "|  1|[10.0,10000.0,1.0]|           (3,[],[])|\n",
            "|  2|[20.0,30000.0,2.0]|[0.5,0.6666666666...|\n",
            "|  3|[30.0,40000.0,3.0]|       [1.0,1.0,1.0]|\n",
            "+---+------------------+--------------------+\n",
            "\n"
          ],
          "name": "stdout"
        }
      ]
    },
    {
      "cell_type": "markdown",
      "metadata": {
        "id": "yWWyshlZ4_lx"
      },
      "source": [
        "## Standardize"
      ]
    },
    {
      "cell_type": "markdown",
      "metadata": {
        "id": "OwmDEDCR5Z3w"
      },
      "source": [
        "Features tem seus valores substituidos por um range entre -1 e 1 e media de 0 e desvio padrao de 1. Assumindo uma distruibuicao normal"
      ]
    },
    {
      "cell_type": "code",
      "metadata": {
        "id": "ReWS-EnD5gCB"
      },
      "source": [
        "from pyspark.ml.feature import StandardScaler"
      ],
      "execution_count": null,
      "outputs": []
    },
    {
      "cell_type": "code",
      "metadata": {
        "colab": {
          "base_uri": "https://localhost:8080/"
        },
        "id": "aBiwTvTq50-2",
        "outputId": "3d38b5e3-be3e-44e5-bf33-fe17f01c21c6"
      },
      "source": [
        "stand = StandardScaler(inputCol='features',outputCol='stand_feat',withStd=True,withMean=True).fit(features_df).transform(features_df)\n",
        "stand.show()"
      ],
      "execution_count": null,
      "outputs": [
        {
          "output_type": "stream",
          "text": [
            "+---+------------------+--------------------+\n",
            "| id|          features|          stand_feat|\n",
            "+---+------------------+--------------------+\n",
            "|  1|[10.0,10000.0,1.0]|[-1.0,-1.09108945...|\n",
            "|  2|[20.0,30000.0,2.0]|[0.0,0.2182178902...|\n",
            "|  3|[30.0,40000.0,3.0]|[1.0,0.8728715609...|\n",
            "+---+------------------+--------------------+\n",
            "\n"
          ],
          "name": "stdout"
        }
      ]
    },
    {
      "cell_type": "code",
      "metadata": {
        "colab": {
          "base_uri": "https://localhost:8080/"
        },
        "id": "yJx9Td0p6dtn",
        "outputId": "9ef31a46-3e62-4889-d6f7-fb361dcdccf9"
      },
      "source": [
        "stand_scal = StandardScaler(inputCol='scal_feat',outputCol='stand_scal_feat',withStd=True,withMean=True).fit(scaler).transform(scaler)\n",
        "stand_scal.show(truncate=False)"
      ],
      "execution_count": null,
      "outputs": [
        {
          "output_type": "stream",
          "text": [
            "+---+------------------+----------------------------+-------------------------------+\n",
            "|id |features          |scal_feat                   |stand_scal_feat                |\n",
            "+---+------------------+----------------------------+-------------------------------+\n",
            "|1  |[10.0,10000.0,1.0]|(3,[],[])                   |[-1.0,-1.0910894511799618,-1.0]|\n",
            "|2  |[20.0,30000.0,2.0]|[0.5,0.6666666666666667,0.5]|[0.0,0.21821789023599245,0.0]  |\n",
            "|3  |[30.0,40000.0,3.0]|[1.0,1.0,1.0]               |[1.0,0.8728715609439694,1.0]   |\n",
            "+---+------------------+----------------------------+-------------------------------+\n",
            "\n"
          ],
          "name": "stdout"
        }
      ]
    },
    {
      "cell_type": "markdown",
      "metadata": {
        "id": "o8or8fbo7mhz"
      },
      "source": [
        "## Partitioning"
      ]
    },
    {
      "cell_type": "markdown",
      "metadata": {
        "id": "9WnclCA67qk9"
      },
      "source": [
        "Separar valores continuos em grupos para trabalhar. Ex: mensal de Janeiro"
      ]
    },
    {
      "cell_type": "code",
      "metadata": {
        "id": "dPh5P2lD7vEW"
      },
      "source": [
        "from pyspark.ml.feature import Bucketizer"
      ],
      "execution_count": null,
      "outputs": []
    },
    {
      "cell_type": "code",
      "metadata": {
        "id": "LkhjwkfujSJD"
      },
      "source": [
        "splits = [-float(\"inf\"),-10.0,0.0,10.0,float(\"inf\")]"
      ],
      "execution_count": null,
      "outputs": []
    },
    {
      "cell_type": "code",
      "metadata": {
        "id": "CGWp5eZkj9iy"
      },
      "source": [
        "data = [(-800.0,),(-10.5,),(-1.7,),(0.0,),(8.2,),(90.1,)]"
      ],
      "execution_count": null,
      "outputs": []
    },
    {
      "cell_type": "code",
      "metadata": {
        "colab": {
          "base_uri": "https://localhost:8080/"
        },
        "id": "cGi9w0_fltU6",
        "outputId": "9e024177-40bb-44b1-d113-ad8d9e436bce"
      },
      "source": [
        "data_df = spark.createDataFrame(data,[\"features\"])\n",
        "data_df.show()"
      ],
      "execution_count": null,
      "outputs": [
        {
          "output_type": "stream",
          "text": [
            "+--------+\n",
            "|features|\n",
            "+--------+\n",
            "|  -800.0|\n",
            "|   -10.5|\n",
            "|    -1.7|\n",
            "|     0.0|\n",
            "|     8.2|\n",
            "|    90.1|\n",
            "+--------+\n",
            "\n"
          ],
          "name": "stdout"
        }
      ]
    },
    {
      "cell_type": "code",
      "metadata": {
        "colab": {
          "base_uri": "https://localhost:8080/"
        },
        "id": "2KEw2K12mirF",
        "outputId": "c3722ce3-79bb-4603-816e-386b5d2a4c58"
      },
      "source": [
        "bucket = Bucketizer(splits=splits,inputCol=\"features\",outputCol=\"buc_features\").transform(data_df)\n",
        "bucket.show()"
      ],
      "execution_count": null,
      "outputs": [
        {
          "output_type": "stream",
          "text": [
            "+--------+------------+\n",
            "|features|buc_features|\n",
            "+--------+------------+\n",
            "|  -800.0|         0.0|\n",
            "|   -10.5|         0.0|\n",
            "|    -1.7|         1.0|\n",
            "|     0.0|         2.0|\n",
            "|     8.2|         2.0|\n",
            "|    90.1|         3.0|\n",
            "+--------+------------+\n",
            "\n"
          ],
          "name": "stdout"
        }
      ]
    },
    {
      "cell_type": "markdown",
      "metadata": {
        "id": "w3M1wXgvGHWO"
      },
      "source": [
        "## Tokenizing"
      ]
    },
    {
      "cell_type": "markdown",
      "metadata": {
        "id": "tGx-IRt7Gcp-"
      },
      "source": [
        "string para uma lista de palavras ['This','is','a','example']"
      ]
    },
    {
      "cell_type": "code",
      "metadata": {
        "id": "BP0yHP70nUvh"
      },
      "source": [
        "from pyspark.ml.feature import Tokenizer"
      ],
      "execution_count": null,
      "outputs": []
    },
    {
      "cell_type": "code",
      "metadata": {
        "id": "HNZORBZIGeRD"
      },
      "source": [
        "sent_df = spark.createDataFrame([(1,\"This is an introduction to Spark MLib\"),\\\n",
        "                                   (2,\"Mlib includes libraries for classification and regression\"),\\\n",
        "                                   (3,\"It also contains supporting tools for pipelines\")],[\"id\",\"sentences\"]\\\n",
        "                                  )"
      ],
      "execution_count": null,
      "outputs": []
    },
    {
      "cell_type": "code",
      "metadata": {
        "colab": {
          "base_uri": "https://localhost:8080/"
        },
        "id": "x1yrSToJImCh",
        "outputId": "0b94bae3-8802-4a1e-c360-e6cb8c25aca6"
      },
      "source": [
        "sent_df.show(truncate=False)"
      ],
      "execution_count": null,
      "outputs": [
        {
          "output_type": "stream",
          "text": [
            "+---+---------------------------------------------------------+\n",
            "|id |sentences                                                |\n",
            "+---+---------------------------------------------------------+\n",
            "|1  |This is an introduction to Spark MLib                    |\n",
            "|2  |Mlib includes libraries for classification and regression|\n",
            "|3  |It also contains supporting tools for pipelines          |\n",
            "+---+---------------------------------------------------------+\n",
            "\n"
          ],
          "name": "stdout"
        }
      ]
    },
    {
      "cell_type": "code",
      "metadata": {
        "colab": {
          "base_uri": "https://localhost:8080/"
        },
        "id": "U2STB_PcIs3c",
        "outputId": "8da233c9-6db5-4ca1-fb37-befb3297aac1"
      },
      "source": [
        "token = Tokenizer( inputCol=\"sentences\",outputCol=\"tokens\").transform(sent_df)\n",
        "token.show(truncate=False)"
      ],
      "execution_count": null,
      "outputs": [
        {
          "output_type": "stream",
          "text": [
            "+---+---------------------------------------------------------+-----------------------------------------------------------------+\n",
            "|id |sentences                                                |tokens                                                           |\n",
            "+---+---------------------------------------------------------+-----------------------------------------------------------------+\n",
            "|1  |This is an introduction to Spark MLib                    |[this, is, an, introduction, to, spark, mlib]                    |\n",
            "|2  |Mlib includes libraries for classification and regression|[mlib, includes, libraries, for, classification, and, regression]|\n",
            "|3  |It also contains supporting tools for pipelines          |[it, also, contains, supporting, tools, for, pipelines]          |\n",
            "+---+---------------------------------------------------------+-----------------------------------------------------------------+\n",
            "\n"
          ],
          "name": "stdout"
        }
      ]
    },
    {
      "cell_type": "code",
      "metadata": {
        "id": "PQZPaqRsJ0Zb"
      },
      "source": [
        "from pyspark.ml.feature import HashingTF, IDF"
      ],
      "execution_count": null,
      "outputs": []
    },
    {
      "cell_type": "code",
      "metadata": {
        "colab": {
          "base_uri": "https://localhost:8080/"
        },
        "id": "_a1Hv7czJ7cd",
        "outputId": "f141e6ed-20a0-4477-d21c-6f1f95735a2b"
      },
      "source": [
        "hashingtf = HashingTF(inputCol=\"tokens\",outputCol=\"rawfeat\",numFeatures=20).transform(token)\n",
        "hashingtf.show(truncate=False)\n",
        "#Quanto cada palavra aparece em cada frase"
      ],
      "execution_count": null,
      "outputs": [
        {
          "output_type": "stream",
          "text": [
            "+---+---------------------------------------------------------+-----------------------------------------------------------------+------------------------------------------------------+\n",
            "|id |sentences                                                |tokens                                                           |rawfeat                                               |\n",
            "+---+---------------------------------------------------------+-----------------------------------------------------------------+------------------------------------------------------+\n",
            "|1  |This is an introduction to Spark MLib                    |[this, is, an, introduction, to, spark, mlib]                    |(20,[6,8,9,10,13],[2.0,1.0,2.0,1.0,1.0])              |\n",
            "|2  |Mlib includes libraries for classification and regression|[mlib, includes, libraries, for, classification, and, regression]|(20,[2,4,9,11,12,17,19],[1.0,1.0,1.0,1.0,1.0,1.0,1.0])|\n",
            "|3  |It also contains supporting tools for pipelines          |[it, also, contains, supporting, tools, for, pipelines]          |(20,[1,4,6,8,11,12,14],[1.0,1.0,1.0,1.0,1.0,1.0,1.0]) |\n",
            "+---+---------------------------------------------------------+-----------------------------------------------------------------+------------------------------------------------------+\n",
            "\n"
          ],
          "name": "stdout"
        }
      ]
    },
    {
      "cell_type": "code",
      "metadata": {
        "colab": {
          "base_uri": "https://localhost:8080/"
        },
        "id": "R8q3Z1NwLAzM",
        "outputId": "c8cf9bb2-9e02-4246-ef99-5a4b176918dc"
      },
      "source": [
        "idf = IDF(inputCol=\"rawfeat\",outputCol=\"idffeat\").fit(hashingtf).transform(hashingtf)\n",
        "idf.show(truncate=False)\n",
        "#quanto cada palavra aparece no conjunto de documentos"
      ],
      "execution_count": null,
      "outputs": [
        {
          "output_type": "stream",
          "text": [
            "+---+---------------------------------------------------------+-----------------------------------------------------------------+------------------------------------------------------+-------------------------------------------------------------------------------------------------------------------------------------------------------------------+\n",
            "|id |sentences                                                |tokens                                                           |rawfeat                                               |idffeat                                                                                                                                                            |\n",
            "+---+---------------------------------------------------------+-----------------------------------------------------------------+------------------------------------------------------+-------------------------------------------------------------------------------------------------------------------------------------------------------------------+\n",
            "|1  |This is an introduction to Spark MLib                    |[this, is, an, introduction, to, spark, mlib]                    |(20,[6,8,9,10,13],[2.0,1.0,2.0,1.0,1.0])              |(20,[6,8,9,10,13],[0.5753641449035617,0.28768207245178085,0.5753641449035617,0.6931471805599453,0.6931471805599453])                                               |\n",
            "|2  |Mlib includes libraries for classification and regression|[mlib, includes, libraries, for, classification, and, regression]|(20,[2,4,9,11,12,17,19],[1.0,1.0,1.0,1.0,1.0,1.0,1.0])|(20,[2,4,9,11,12,17,19],[0.6931471805599453,0.28768207245178085,0.28768207245178085,0.28768207245178085,0.28768207245178085,0.6931471805599453,0.6931471805599453])|\n",
            "|3  |It also contains supporting tools for pipelines          |[it, also, contains, supporting, tools, for, pipelines]          |(20,[1,4,6,8,11,12,14],[1.0,1.0,1.0,1.0,1.0,1.0,1.0]) |(20,[1,4,6,8,11,12,14],[0.6931471805599453,0.28768207245178085,0.28768207245178085,0.28768207245178085,0.28768207245178085,0.28768207245178085,0.6931471805599453])|\n",
            "+---+---------------------------------------------------------+-----------------------------------------------------------------+------------------------------------------------------+-------------------------------------------------------------------------------------------------------------------------------------------------------------------+\n",
            "\n"
          ],
          "name": "stdout"
        }
      ]
    },
    {
      "cell_type": "markdown",
      "metadata": {
        "id": "r2QQC9sN5a1G"
      },
      "source": [
        "# K-mean"
      ]
    },
    {
      "cell_type": "code",
      "metadata": {
        "id": "q31vGrJ75eXY"
      },
      "source": [
        "from pyspark.ml.linalg import Vectors\n",
        "from pyspark.ml.feature import VectorAssembler\n",
        "from pyspark.ml.clustering import KMeans"
      ],
      "execution_count": null,
      "outputs": []
    },
    {
      "cell_type": "code",
      "metadata": {
        "colab": {
          "base_uri": "https://localhost:8080/"
        },
        "id": "eGJphBz853u9",
        "outputId": "d178f52c-1db8-408d-e4c5-9b196b65d7ce"
      },
      "source": [
        "cluster_df = spark.read.csv(\"/content/Spark-for-Machine-Learning-AI/datasets/clustering_dataset.csv\",header=True,inferSchema=True)\n",
        "cluster_df.show()"
      ],
      "execution_count": null,
      "outputs": [
        {
          "output_type": "stream",
          "text": [
            "+----+----+----+\n",
            "|col1|col2|col3|\n",
            "+----+----+----+\n",
            "|   7|   4|   1|\n",
            "|   7|   7|   9|\n",
            "|   7|   9|   6|\n",
            "|   1|   6|   5|\n",
            "|   6|   7|   7|\n",
            "|   7|   9|   4|\n",
            "|   7|  10|   6|\n",
            "|   7|   8|   2|\n",
            "|   8|   3|   8|\n",
            "|   4|  10|   5|\n",
            "|   7|   4|   5|\n",
            "|   7|   8|   4|\n",
            "|   2|   5|   1|\n",
            "|   2|   6|   2|\n",
            "|   2|   3|   8|\n",
            "|   3|   9|   1|\n",
            "|   4|   2|   9|\n",
            "|   1|   7|   1|\n",
            "|   6|   2|   3|\n",
            "|   4|   1|   9|\n",
            "+----+----+----+\n",
            "only showing top 20 rows\n",
            "\n"
          ],
          "name": "stdout"
        }
      ]
    },
    {
      "cell_type": "code",
      "metadata": {
        "colab": {
          "base_uri": "https://localhost:8080/"
        },
        "id": "oLtuqebD6iTC",
        "outputId": "4c563a00-5b4c-47ad-c801-926f5d69bc1a"
      },
      "source": [
        "vectdf = VectorAssembler(inputCols=[\"col1\",\"col2\",\"col3\"],outputCol=\"features\").transform(cluster_df)\n",
        "vectdf.show()"
      ],
      "execution_count": null,
      "outputs": [
        {
          "output_type": "stream",
          "text": [
            "+----+----+----+--------------+\n",
            "|col1|col2|col3|      features|\n",
            "+----+----+----+--------------+\n",
            "|   7|   4|   1| [7.0,4.0,1.0]|\n",
            "|   7|   7|   9| [7.0,7.0,9.0]|\n",
            "|   7|   9|   6| [7.0,9.0,6.0]|\n",
            "|   1|   6|   5| [1.0,6.0,5.0]|\n",
            "|   6|   7|   7| [6.0,7.0,7.0]|\n",
            "|   7|   9|   4| [7.0,9.0,4.0]|\n",
            "|   7|  10|   6|[7.0,10.0,6.0]|\n",
            "|   7|   8|   2| [7.0,8.0,2.0]|\n",
            "|   8|   3|   8| [8.0,3.0,8.0]|\n",
            "|   4|  10|   5|[4.0,10.0,5.0]|\n",
            "|   7|   4|   5| [7.0,4.0,5.0]|\n",
            "|   7|   8|   4| [7.0,8.0,4.0]|\n",
            "|   2|   5|   1| [2.0,5.0,1.0]|\n",
            "|   2|   6|   2| [2.0,6.0,2.0]|\n",
            "|   2|   3|   8| [2.0,3.0,8.0]|\n",
            "|   3|   9|   1| [3.0,9.0,1.0]|\n",
            "|   4|   2|   9| [4.0,2.0,9.0]|\n",
            "|   1|   7|   1| [1.0,7.0,1.0]|\n",
            "|   6|   2|   3| [6.0,2.0,3.0]|\n",
            "|   4|   1|   9| [4.0,1.0,9.0]|\n",
            "+----+----+----+--------------+\n",
            "only showing top 20 rows\n",
            "\n"
          ],
          "name": "stdout"
        }
      ]
    },
    {
      "cell_type": "code",
      "metadata": {
        "id": "dmdWZxaf7PWC"
      },
      "source": [
        "kmean = KMeans().setK(3).setSeed(1).fit(vectdf)"
      ],
      "execution_count": null,
      "outputs": []
    },
    {
      "cell_type": "code",
      "metadata": {
        "colab": {
          "base_uri": "https://localhost:8080/"
        },
        "id": "kjqY9LZJ7nHf",
        "outputId": "0b4bccc8-794c-4865-f459-c117c1e3a628"
      },
      "source": [
        "centroids = kmean.clusterCenters()\n",
        "centroids"
      ],
      "execution_count": null,
      "outputs": [
        {
          "output_type": "execute_result",
          "data": {
            "text/plain": [
              "[array([35.88461538, 31.46153846, 34.42307692]),\n",
              " array([80.        , 79.20833333, 78.29166667]),\n",
              " array([5.12, 5.84, 4.84])]"
            ]
          },
          "metadata": {
            "tags": []
          },
          "execution_count": 37
        }
      ]
    },
    {
      "cell_type": "markdown",
      "metadata": {
        "id": "9JI6lQ5RYruY"
      },
      "source": [
        "# BisectingKMeans"
      ]
    },
    {
      "cell_type": "markdown",
      "metadata": {
        "id": "JdnIEcPVZUqX"
      },
      "source": [
        "Mais performatico em datasets maiores"
      ]
    },
    {
      "cell_type": "code",
      "metadata": {
        "id": "LfulVt7NYysQ"
      },
      "source": [
        "from pyspark.ml.clustering import BisectingKMeans"
      ],
      "execution_count": null,
      "outputs": []
    },
    {
      "cell_type": "code",
      "metadata": {
        "id": "JkHco7agY5Nd"
      },
      "source": [
        "bkmean = BisectingKMeans().setK(3).setSeed(1).fit(vectdf)"
      ],
      "execution_count": null,
      "outputs": []
    },
    {
      "cell_type": "code",
      "metadata": {
        "colab": {
          "base_uri": "https://localhost:8080/"
        },
        "id": "d9yLS5IJZPsZ",
        "outputId": "5558727b-c278-446f-a10e-173247f8265f"
      },
      "source": [
        "centroids = bkmean.clusterCenters()\n",
        "centroids"
      ],
      "execution_count": null,
      "outputs": [
        {
          "output_type": "execute_result",
          "data": {
            "text/plain": [
              "[array([5.12, 5.84, 4.84]),\n",
              " array([35.88461538, 31.46153846, 34.42307692]),\n",
              " array([80.        , 79.20833333, 78.29166667])]"
            ]
          },
          "metadata": {
            "tags": []
          },
          "execution_count": 40
        }
      ]
    },
    {
      "cell_type": "markdown",
      "metadata": {
        "id": "6SiKx-eMavB7"
      },
      "source": [
        "# Iris"
      ]
    },
    {
      "cell_type": "markdown",
      "metadata": {
        "id": "9k0Wig0Pxx5R"
      },
      "source": [
        "This is perhaps the best known database to be found in the pattern recognition literature. Fisher's paper is a classic in the field and is referenced frequently to this day. (See Duda & Hart, for example.) The data set contains 3 classes of 50 instances each, where each class refers to a type of iris plant."
      ]
    },
    {
      "cell_type": "markdown",
      "metadata": {
        "id": "2HUnrGLXxyrE"
      },
      "source": [
        "**Attribute Information:**\n",
        "\n",
        "1. sepal length in cm\n",
        "2. sepal width in cm\n",
        "3. petal length in cm\n",
        "4. petal width in cm\n",
        "5. class:\n",
        "* Iris Setosa\n",
        "* Iris Versicolour\n",
        "* Iris Virginica\n",
        "\n"
      ]
    },
    {
      "cell_type": "code",
      "metadata": {
        "colab": {
          "base_uri": "https://localhost:8080/"
        },
        "id": "FLlJDePxav73",
        "outputId": "54b1f03c-f1eb-49fa-a08e-d6a5c919f75a"
      },
      "source": [
        "!wget http://archive.ics.uci.edu/ml/machine-learning-databases/iris/iris.data"
      ],
      "execution_count": null,
      "outputs": [
        {
          "output_type": "stream",
          "text": [
            "--2021-04-24 18:54:18--  http://archive.ics.uci.edu/ml/machine-learning-databases/iris/iris.data\n",
            "Resolving archive.ics.uci.edu (archive.ics.uci.edu)... 128.195.10.252\n",
            "Connecting to archive.ics.uci.edu (archive.ics.uci.edu)|128.195.10.252|:80... connected.\n",
            "HTTP request sent, awaiting response... 200 OK\n",
            "Length: 4551 (4.4K) [application/x-httpd-php]\n",
            "Saving to: ‘iris.data’\n",
            "\n",
            "iris.data           100%[===================>]   4.44K  --.-KB/s    in 0s      \n",
            "\n",
            "2021-04-24 18:54:20 (393 MB/s) - ‘iris.data’ saved [4551/4551]\n",
            "\n"
          ],
          "name": "stdout"
        }
      ]
    },
    {
      "cell_type": "code",
      "metadata": {
        "id": "0-c33g6Ca1-Z"
      },
      "source": [
        "from pyspark.ml.feature import VectorAssembler,StringIndexer"
      ],
      "execution_count": null,
      "outputs": []
    },
    {
      "cell_type": "code",
      "metadata": {
        "colab": {
          "base_uri": "https://localhost:8080/"
        },
        "id": "21wjqZyDcA-d",
        "outputId": "c4942278-95b2-4c39-de99-7e776ee4fe05"
      },
      "source": [
        "iris_df = spark.read.csv(\"/content/iris.data\",inferSchema=True)\n",
        "iris_df.show()"
      ],
      "execution_count": null,
      "outputs": [
        {
          "output_type": "stream",
          "text": [
            "+---+---+---+---+-----------+\n",
            "|_c0|_c1|_c2|_c3|        _c4|\n",
            "+---+---+---+---+-----------+\n",
            "|5.1|3.5|1.4|0.2|Iris-setosa|\n",
            "|4.9|3.0|1.4|0.2|Iris-setosa|\n",
            "|4.7|3.2|1.3|0.2|Iris-setosa|\n",
            "|4.6|3.1|1.5|0.2|Iris-setosa|\n",
            "|5.0|3.6|1.4|0.2|Iris-setosa|\n",
            "|5.4|3.9|1.7|0.4|Iris-setosa|\n",
            "|4.6|3.4|1.4|0.3|Iris-setosa|\n",
            "|5.0|3.4|1.5|0.2|Iris-setosa|\n",
            "|4.4|2.9|1.4|0.2|Iris-setosa|\n",
            "|4.9|3.1|1.5|0.1|Iris-setosa|\n",
            "|5.4|3.7|1.5|0.2|Iris-setosa|\n",
            "|4.8|3.4|1.6|0.2|Iris-setosa|\n",
            "|4.8|3.0|1.4|0.1|Iris-setosa|\n",
            "|4.3|3.0|1.1|0.1|Iris-setosa|\n",
            "|5.8|4.0|1.2|0.2|Iris-setosa|\n",
            "|5.7|4.4|1.5|0.4|Iris-setosa|\n",
            "|5.4|3.9|1.3|0.4|Iris-setosa|\n",
            "|5.1|3.5|1.4|0.3|Iris-setosa|\n",
            "|5.7|3.8|1.7|0.3|Iris-setosa|\n",
            "|5.1|3.8|1.5|0.3|Iris-setosa|\n",
            "+---+---+---+---+-----------+\n",
            "only showing top 20 rows\n",
            "\n"
          ],
          "name": "stdout"
        }
      ]
    },
    {
      "cell_type": "code",
      "metadata": {
        "colab": {
          "base_uri": "https://localhost:8080/"
        },
        "id": "3g9Fo_W9cjWf",
        "outputId": "55b303a8-72a8-4a9f-bf0b-78dcb4c8e728"
      },
      "source": [
        "iris_df = iris_df.withColumnRenamed(\"_c0\",\"sepal_length(cm)\")\n",
        "iris_df = iris_df.withColumnRenamed(\"_c1\",\"sepal_width(cm)\")\n",
        "iris_df = iris_df.withColumnRenamed(\"_c2\",\"petal_length(cm)\")\n",
        "iris_df = iris_df.withColumnRenamed(\"_c3\",\"petal_width(cm)\")\n",
        "iris_df = iris_df.withColumnRenamed(\"_c4\",\"class\")\n",
        "iris_df.show()"
      ],
      "execution_count": null,
      "outputs": [
        {
          "output_type": "stream",
          "text": [
            "+----------------+---------------+----------------+---------------+-----------+\n",
            "|sepal_length(cm)|sepal_width(cm)|petal_length(cm)|petal_width(cm)|      class|\n",
            "+----------------+---------------+----------------+---------------+-----------+\n",
            "|             5.1|            3.5|             1.4|            0.2|Iris-setosa|\n",
            "|             4.9|            3.0|             1.4|            0.2|Iris-setosa|\n",
            "|             4.7|            3.2|             1.3|            0.2|Iris-setosa|\n",
            "|             4.6|            3.1|             1.5|            0.2|Iris-setosa|\n",
            "|             5.0|            3.6|             1.4|            0.2|Iris-setosa|\n",
            "|             5.4|            3.9|             1.7|            0.4|Iris-setosa|\n",
            "|             4.6|            3.4|             1.4|            0.3|Iris-setosa|\n",
            "|             5.0|            3.4|             1.5|            0.2|Iris-setosa|\n",
            "|             4.4|            2.9|             1.4|            0.2|Iris-setosa|\n",
            "|             4.9|            3.1|             1.5|            0.1|Iris-setosa|\n",
            "|             5.4|            3.7|             1.5|            0.2|Iris-setosa|\n",
            "|             4.8|            3.4|             1.6|            0.2|Iris-setosa|\n",
            "|             4.8|            3.0|             1.4|            0.1|Iris-setosa|\n",
            "|             4.3|            3.0|             1.1|            0.1|Iris-setosa|\n",
            "|             5.8|            4.0|             1.2|            0.2|Iris-setosa|\n",
            "|             5.7|            4.4|             1.5|            0.4|Iris-setosa|\n",
            "|             5.4|            3.9|             1.3|            0.4|Iris-setosa|\n",
            "|             5.1|            3.5|             1.4|            0.3|Iris-setosa|\n",
            "|             5.7|            3.8|             1.7|            0.3|Iris-setosa|\n",
            "|             5.1|            3.8|             1.5|            0.3|Iris-setosa|\n",
            "+----------------+---------------+----------------+---------------+-----------+\n",
            "only showing top 20 rows\n",
            "\n"
          ],
          "name": "stdout"
        }
      ]
    },
    {
      "cell_type": "code",
      "metadata": {
        "colab": {
          "base_uri": "https://localhost:8080/"
        },
        "id": "iV1dIfj5eg5j",
        "outputId": "dcce4526-4509-4910-b512-3c6cbc34c585"
      },
      "source": [
        "iris_df.columns[:-1]"
      ],
      "execution_count": null,
      "outputs": [
        {
          "output_type": "execute_result",
          "data": {
            "text/plain": [
              "['sepal_length(cm)', 'sepal_width(cm)', 'petal_length(cm)', 'petal_width(cm)']"
            ]
          },
          "metadata": {
            "tags": []
          },
          "execution_count": 45
        }
      ]
    },
    {
      "cell_type": "code",
      "metadata": {
        "colab": {
          "base_uri": "https://localhost:8080/"
        },
        "id": "rdS8pXoceG3J",
        "outputId": "7f8935f6-2bd6-4f8f-b6b9-1e89315c081d"
      },
      "source": [
        "iris_feat = VectorAssembler(inputCols=iris_df.columns[:-1],outputCol=\"features\").transform(iris_df)\n",
        "iris_feat.show()"
      ],
      "execution_count": null,
      "outputs": [
        {
          "output_type": "stream",
          "text": [
            "+----------------+---------------+----------------+---------------+-----------+-----------------+\n",
            "|sepal_length(cm)|sepal_width(cm)|petal_length(cm)|petal_width(cm)|      class|         features|\n",
            "+----------------+---------------+----------------+---------------+-----------+-----------------+\n",
            "|             5.1|            3.5|             1.4|            0.2|Iris-setosa|[5.1,3.5,1.4,0.2]|\n",
            "|             4.9|            3.0|             1.4|            0.2|Iris-setosa|[4.9,3.0,1.4,0.2]|\n",
            "|             4.7|            3.2|             1.3|            0.2|Iris-setosa|[4.7,3.2,1.3,0.2]|\n",
            "|             4.6|            3.1|             1.5|            0.2|Iris-setosa|[4.6,3.1,1.5,0.2]|\n",
            "|             5.0|            3.6|             1.4|            0.2|Iris-setosa|[5.0,3.6,1.4,0.2]|\n",
            "|             5.4|            3.9|             1.7|            0.4|Iris-setosa|[5.4,3.9,1.7,0.4]|\n",
            "|             4.6|            3.4|             1.4|            0.3|Iris-setosa|[4.6,3.4,1.4,0.3]|\n",
            "|             5.0|            3.4|             1.5|            0.2|Iris-setosa|[5.0,3.4,1.5,0.2]|\n",
            "|             4.4|            2.9|             1.4|            0.2|Iris-setosa|[4.4,2.9,1.4,0.2]|\n",
            "|             4.9|            3.1|             1.5|            0.1|Iris-setosa|[4.9,3.1,1.5,0.1]|\n",
            "|             5.4|            3.7|             1.5|            0.2|Iris-setosa|[5.4,3.7,1.5,0.2]|\n",
            "|             4.8|            3.4|             1.6|            0.2|Iris-setosa|[4.8,3.4,1.6,0.2]|\n",
            "|             4.8|            3.0|             1.4|            0.1|Iris-setosa|[4.8,3.0,1.4,0.1]|\n",
            "|             4.3|            3.0|             1.1|            0.1|Iris-setosa|[4.3,3.0,1.1,0.1]|\n",
            "|             5.8|            4.0|             1.2|            0.2|Iris-setosa|[5.8,4.0,1.2,0.2]|\n",
            "|             5.7|            4.4|             1.5|            0.4|Iris-setosa|[5.7,4.4,1.5,0.4]|\n",
            "|             5.4|            3.9|             1.3|            0.4|Iris-setosa|[5.4,3.9,1.3,0.4]|\n",
            "|             5.1|            3.5|             1.4|            0.3|Iris-setosa|[5.1,3.5,1.4,0.3]|\n",
            "|             5.7|            3.8|             1.7|            0.3|Iris-setosa|[5.7,3.8,1.7,0.3]|\n",
            "|             5.1|            3.8|             1.5|            0.3|Iris-setosa|[5.1,3.8,1.5,0.3]|\n",
            "+----------------+---------------+----------------+---------------+-----------+-----------------+\n",
            "only showing top 20 rows\n",
            "\n"
          ],
          "name": "stdout"
        }
      ]
    },
    {
      "cell_type": "code",
      "metadata": {
        "colab": {
          "base_uri": "https://localhost:8080/"
        },
        "id": "DF6MQEjVfWx_",
        "outputId": "58a2edc7-3e74-498b-e5c6-0d4477c0d5cd"
      },
      "source": [
        "iris_ready = StringIndexer(inputCol=\"class\",outputCol=\"label\").fit(iris_feat).transform(iris_feat)\n",
        "iris_ready.show()"
      ],
      "execution_count": null,
      "outputs": [
        {
          "output_type": "stream",
          "text": [
            "+----------------+---------------+----------------+---------------+-----------+-----------------+-----+\n",
            "|sepal_length(cm)|sepal_width(cm)|petal_length(cm)|petal_width(cm)|      class|         features|label|\n",
            "+----------------+---------------+----------------+---------------+-----------+-----------------+-----+\n",
            "|             5.1|            3.5|             1.4|            0.2|Iris-setosa|[5.1,3.5,1.4,0.2]|  0.0|\n",
            "|             4.9|            3.0|             1.4|            0.2|Iris-setosa|[4.9,3.0,1.4,0.2]|  0.0|\n",
            "|             4.7|            3.2|             1.3|            0.2|Iris-setosa|[4.7,3.2,1.3,0.2]|  0.0|\n",
            "|             4.6|            3.1|             1.5|            0.2|Iris-setosa|[4.6,3.1,1.5,0.2]|  0.0|\n",
            "|             5.0|            3.6|             1.4|            0.2|Iris-setosa|[5.0,3.6,1.4,0.2]|  0.0|\n",
            "|             5.4|            3.9|             1.7|            0.4|Iris-setosa|[5.4,3.9,1.7,0.4]|  0.0|\n",
            "|             4.6|            3.4|             1.4|            0.3|Iris-setosa|[4.6,3.4,1.4,0.3]|  0.0|\n",
            "|             5.0|            3.4|             1.5|            0.2|Iris-setosa|[5.0,3.4,1.5,0.2]|  0.0|\n",
            "|             4.4|            2.9|             1.4|            0.2|Iris-setosa|[4.4,2.9,1.4,0.2]|  0.0|\n",
            "|             4.9|            3.1|             1.5|            0.1|Iris-setosa|[4.9,3.1,1.5,0.1]|  0.0|\n",
            "|             5.4|            3.7|             1.5|            0.2|Iris-setosa|[5.4,3.7,1.5,0.2]|  0.0|\n",
            "|             4.8|            3.4|             1.6|            0.2|Iris-setosa|[4.8,3.4,1.6,0.2]|  0.0|\n",
            "|             4.8|            3.0|             1.4|            0.1|Iris-setosa|[4.8,3.0,1.4,0.1]|  0.0|\n",
            "|             4.3|            3.0|             1.1|            0.1|Iris-setosa|[4.3,3.0,1.1,0.1]|  0.0|\n",
            "|             5.8|            4.0|             1.2|            0.2|Iris-setosa|[5.8,4.0,1.2,0.2]|  0.0|\n",
            "|             5.7|            4.4|             1.5|            0.4|Iris-setosa|[5.7,4.4,1.5,0.4]|  0.0|\n",
            "|             5.4|            3.9|             1.3|            0.4|Iris-setosa|[5.4,3.9,1.3,0.4]|  0.0|\n",
            "|             5.1|            3.5|             1.4|            0.3|Iris-setosa|[5.1,3.5,1.4,0.3]|  0.0|\n",
            "|             5.7|            3.8|             1.7|            0.3|Iris-setosa|[5.7,3.8,1.7,0.3]|  0.0|\n",
            "|             5.1|            3.8|             1.5|            0.3|Iris-setosa|[5.1,3.8,1.5,0.3]|  0.0|\n",
            "+----------------+---------------+----------------+---------------+-----------+-----------------+-----+\n",
            "only showing top 20 rows\n",
            "\n"
          ],
          "name": "stdout"
        }
      ]
    },
    {
      "cell_type": "markdown",
      "metadata": {
        "id": "jRD2ZlQUNmD_"
      },
      "source": [
        "# Naive Bayes"
      ]
    },
    {
      "cell_type": "code",
      "metadata": {
        "id": "IuIAt3hMf_xT"
      },
      "source": [
        "from pyspark.ml.classification import NaiveBayes\n",
        "from pyspark.ml.evaluation import MulticlassClassificationEvaluator"
      ],
      "execution_count": null,
      "outputs": []
    },
    {
      "cell_type": "code",
      "metadata": {
        "id": "fEZx6egvODZS"
      },
      "source": [
        "(traindata,testdata) = iris_ready.randomSplit([0.7,0.3],3)"
      ],
      "execution_count": null,
      "outputs": []
    },
    {
      "cell_type": "code",
      "metadata": {
        "id": "RRddzwN5OiIm"
      },
      "source": [
        "nb = NaiveBayes(modelType=\"multinomial\",labelCol=\"label\",featuresCol=\"features\")"
      ],
      "execution_count": null,
      "outputs": []
    },
    {
      "cell_type": "code",
      "metadata": {
        "id": "6tNsIt1kOzux"
      },
      "source": [
        "model = nb.fit(traindata)"
      ],
      "execution_count": null,
      "outputs": []
    },
    {
      "cell_type": "code",
      "metadata": {
        "id": "607FqdNfPI9q"
      },
      "source": [
        "predictions = model.transform(testdata)"
      ],
      "execution_count": null,
      "outputs": []
    },
    {
      "cell_type": "code",
      "metadata": {
        "colab": {
          "base_uri": "https://localhost:8080/"
        },
        "id": "52POXHSPPNuV",
        "outputId": "3aa342cb-6f01-4a4b-e1dc-f5f1c3e545a5"
      },
      "source": [
        "predictions.select(\"features\",\"label\",\"prediction\").show()"
      ],
      "execution_count": null,
      "outputs": [
        {
          "output_type": "stream",
          "text": [
            "+-----------------+-----+----------+\n",
            "|         features|label|prediction|\n",
            "+-----------------+-----+----------+\n",
            "|[4.4,3.0,1.3,0.2]|  0.0|       0.0|\n",
            "|[4.4,3.2,1.3,0.2]|  0.0|       0.0|\n",
            "|[4.6,3.2,1.4,0.2]|  0.0|       0.0|\n",
            "|[4.6,3.4,1.4,0.3]|  0.0|       0.0|\n",
            "|[4.7,3.2,1.3,0.2]|  0.0|       0.0|\n",
            "|[4.8,3.0,1.4,0.1]|  0.0|       0.0|\n",
            "|[4.8,3.0,1.4,0.3]|  0.0|       0.0|\n",
            "|[4.8,3.1,1.6,0.2]|  0.0|       0.0|\n",
            "|[4.8,3.4,1.6,0.2]|  0.0|       0.0|\n",
            "|[4.9,3.0,1.4,0.2]|  0.0|       0.0|\n",
            "|[4.9,3.1,1.5,0.1]|  0.0|       0.0|\n",
            "|[5.0,2.0,3.5,1.0]|  1.0|       1.0|\n",
            "|[5.0,3.0,1.6,0.2]|  0.0|       0.0|\n",
            "|[5.0,3.3,1.4,0.2]|  0.0|       0.0|\n",
            "|[5.1,2.5,3.0,1.1]|  1.0|       1.0|\n",
            "|[5.1,3.5,1.4,0.2]|  0.0|       0.0|\n",
            "|[5.1,3.5,1.4,0.3]|  0.0|       0.0|\n",
            "|[5.1,3.8,1.5,0.3]|  0.0|       0.0|\n",
            "|[5.2,2.7,3.9,1.4]|  1.0|       1.0|\n",
            "|[5.2,3.5,1.5,0.2]|  0.0|       0.0|\n",
            "+-----------------+-----+----------+\n",
            "only showing top 20 rows\n",
            "\n"
          ],
          "name": "stdout"
        }
      ]
    },
    {
      "cell_type": "code",
      "metadata": {
        "colab": {
          "base_uri": "https://localhost:8080/"
        },
        "id": "TwVhvrrDPei9",
        "outputId": "e0faa8ee-a70d-4b59-941f-4552778f87c6"
      },
      "source": [
        "evaluator = MulticlassClassificationEvaluator(labelCol=\"label\", predictionCol=\"prediction\", metricName=\"accuracy\")\n",
        "accuracy = evaluator.evaluate(predictions)\n",
        "print(\"Test Error:\",1- accuracy)"
      ],
      "execution_count": null,
      "outputs": [
        {
          "output_type": "stream",
          "text": [
            "Test Error: 0.05555555555555558\n"
          ],
          "name": "stdout"
        }
      ]
    },
    {
      "cell_type": "code",
      "metadata": {
        "id": "b0meH2jFPiAH"
      },
      "source": [
        "y_pred = predictions.select([\"prediction\"]).collect()\n",
        "y_test = predictions.select([\"label\"]).collect()"
      ],
      "execution_count": null,
      "outputs": []
    },
    {
      "cell_type": "code",
      "metadata": {
        "colab": {
          "base_uri": "https://localhost:8080/",
          "height": 449
        },
        "id": "N1dReAYxPmwV",
        "outputId": "b1ba8ecb-91a6-4bb8-875b-08c229953c00"
      },
      "source": [
        "from mlxtend.plotting import plot_confusion_matrix\n",
        "from sklearn.metrics import confusion_matrix, classification_report\n",
        "import matplotlib.pyplot as plt\n",
        "\n",
        "print(classification_report(y_test,y_pred))\n",
        "matrix = confusion_matrix(y_test,y_pred)\n",
        "fig,ax = plot_confusion_matrix(conf_mat=matrix)\n",
        "plt.show()"
      ],
      "execution_count": null,
      "outputs": [
        {
          "output_type": "stream",
          "text": [
            "              precision    recall  f1-score   support\n",
            "\n",
            "         0.0       1.00      1.00      1.00        23\n",
            "         1.0       1.00      0.81      0.90        16\n",
            "         2.0       0.83      1.00      0.91        15\n",
            "\n",
            "    accuracy                           0.94        54\n",
            "   macro avg       0.94      0.94      0.94        54\n",
            "weighted avg       0.95      0.94      0.94        54\n",
            "\n"
          ],
          "name": "stdout"
        },
        {
          "output_type": "display_data",
          "data": {
            "image/png": "[encoded data removed]",
            "text/plain": [
              "<Figure size 432x288 with 1 Axes>"
            ]
          },
          "metadata": {
            "tags": [],
            "needs_background": "light"
          }
        }
      ]
    },
    {
      "cell_type": "markdown",
      "metadata": {
        "id": "y1MIwYFvSJQp"
      },
      "source": [
        "# Multilayer perceptron"
      ]
    },
    {
      "cell_type": "code",
      "metadata": {
        "id": "SGp7OmpiSyif"
      },
      "source": [
        "from pyspark.ml.classification import MultilayerPerceptronClassifier"
      ],
      "execution_count": null,
      "outputs": []
    },
    {
      "cell_type": "code",
      "metadata": {
        "id": "iqEktZM1S7rr"
      },
      "source": [
        "layers = [4,5,5,5,5,3] #4 features and 3 classes, 4 layers of 5 neurons"
      ],
      "execution_count": null,
      "outputs": []
    },
    {
      "cell_type": "code",
      "metadata": {
        "id": "Jet-fIfzUG1b"
      },
      "source": [
        "mlp = MultilayerPerceptronClassifier(layers=layers,seed=1)"
      ],
      "execution_count": null,
      "outputs": []
    },
    {
      "cell_type": "code",
      "metadata": {
        "id": "m2NDLYeoUT0-"
      },
      "source": [
        "model = mlp.fit(traindata)"
      ],
      "execution_count": null,
      "outputs": []
    },
    {
      "cell_type": "code",
      "metadata": {
        "id": "AxKtWqSGUaRw"
      },
      "source": [
        "predictions = model.transform(testdata)"
      ],
      "execution_count": null,
      "outputs": []
    },
    {
      "cell_type": "code",
      "metadata": {
        "colab": {
          "base_uri": "https://localhost:8080/"
        },
        "id": "-OpguzfCUf1w",
        "outputId": "47b55b6c-a150-4a46-938c-89c0045c0855"
      },
      "source": [
        "predictions.select(\"features\",\"label\",\"prediction\").show()"
      ],
      "execution_count": null,
      "outputs": [
        {
          "output_type": "stream",
          "text": [
            "+-----------------+-----+----------+\n",
            "|         features|label|prediction|\n",
            "+-----------------+-----+----------+\n",
            "|[4.4,3.0,1.3,0.2]|  0.0|       0.0|\n",
            "|[4.4,3.2,1.3,0.2]|  0.0|       0.0|\n",
            "|[4.6,3.2,1.4,0.2]|  0.0|       0.0|\n",
            "|[4.6,3.4,1.4,0.3]|  0.0|       0.0|\n",
            "|[4.7,3.2,1.3,0.2]|  0.0|       0.0|\n",
            "|[4.8,3.0,1.4,0.1]|  0.0|       0.0|\n",
            "|[4.8,3.0,1.4,0.3]|  0.0|       0.0|\n",
            "|[4.8,3.1,1.6,0.2]|  0.0|       0.0|\n",
            "|[4.8,3.4,1.6,0.2]|  0.0|       0.0|\n",
            "|[4.9,3.0,1.4,0.2]|  0.0|       0.0|\n",
            "|[4.9,3.1,1.5,0.1]|  0.0|       0.0|\n",
            "|[5.0,2.0,3.5,1.0]|  1.0|       1.0|\n",
            "|[5.0,3.0,1.6,0.2]|  0.0|       0.0|\n",
            "|[5.0,3.3,1.4,0.2]|  0.0|       0.0|\n",
            "|[5.1,2.5,3.0,1.1]|  1.0|       1.0|\n",
            "|[5.1,3.5,1.4,0.2]|  0.0|       0.0|\n",
            "|[5.1,3.5,1.4,0.3]|  0.0|       0.0|\n",
            "|[5.1,3.8,1.5,0.3]|  0.0|       0.0|\n",
            "|[5.2,2.7,3.9,1.4]|  1.0|       1.0|\n",
            "|[5.2,3.5,1.5,0.2]|  0.0|       0.0|\n",
            "+-----------------+-----+----------+\n",
            "only showing top 20 rows\n",
            "\n"
          ],
          "name": "stdout"
        }
      ]
    },
    {
      "cell_type": "code",
      "metadata": {
        "colab": {
          "base_uri": "https://localhost:8080/"
        },
        "id": "y8vgvZrXUhls",
        "outputId": "a852f00f-8775-4b48-e486-9d7d1685e411"
      },
      "source": [
        "evaluator = MulticlassClassificationEvaluator(labelCol=\"label\", predictionCol=\"prediction\", metricName=\"accuracy\")\n",
        "accuracy = evaluator.evaluate(predictions)\n",
        "print(\"Test Error:\",1- accuracy)"
      ],
      "execution_count": null,
      "outputs": [
        {
          "output_type": "stream",
          "text": [
            "Test Error: 0.05555555555555558\n"
          ],
          "name": "stdout"
        }
      ]
    },
    {
      "cell_type": "code",
      "metadata": {
        "id": "_mkCM4WeUi_Q"
      },
      "source": [
        "y_pred = predictions.select([\"prediction\"]).collect()\n",
        "y_test = predictions.select([\"label\"]).collect()"
      ],
      "execution_count": null,
      "outputs": []
    },
    {
      "cell_type": "code",
      "metadata": {
        "colab": {
          "base_uri": "https://localhost:8080/",
          "height": 449
        },
        "id": "ZzDdt7oGUj_i",
        "outputId": "da747d85-694a-4636-d2c8-def2caf51d6b"
      },
      "source": [
        "print(classification_report(y_test,y_pred))\n",
        "matrix = confusion_matrix(y_test,y_pred)\n",
        "fig,ax = plot_confusion_matrix(conf_mat=matrix)\n",
        "plt.show()"
      ],
      "execution_count": null,
      "outputs": [
        {
          "output_type": "stream",
          "text": [
            "              precision    recall  f1-score   support\n",
            "\n",
            "         0.0       1.00      1.00      1.00        23\n",
            "         1.0       1.00      0.81      0.90        16\n",
            "         2.0       0.83      1.00      0.91        15\n",
            "\n",
            "    accuracy                           0.94        54\n",
            "   macro avg       0.94      0.94      0.94        54\n",
            "weighted avg       0.95      0.94      0.94        54\n",
            "\n"
          ],
          "name": "stdout"
        },
        {
          "output_type": "display_data",
          "data": {
            "image/png": "[encoded data removed]",
            "text/plain": [
              "<Figure size 432x288 with 1 Axes>"
            ]
          },
          "metadata": {
            "tags": [],
            "needs_background": "light"
          }
        }
      ]
    },
    {
      "cell_type": "markdown",
      "metadata": {
        "id": "Nai7BFCtO5-h"
      },
      "source": [
        "# Decision Tree"
      ]
    },
    {
      "cell_type": "code",
      "metadata": {
        "id": "2FYfE8zdPL9s"
      },
      "source": [
        "from pyspark.ml.classification import DecisionTreeClassifier"
      ],
      "execution_count": null,
      "outputs": []
    },
    {
      "cell_type": "code",
      "metadata": {
        "id": "mq1yS8_yPlqb"
      },
      "source": [
        "dt = DecisionTreeClassifier(labelCol=\"label\",featuresCol=\"features\")"
      ],
      "execution_count": null,
      "outputs": []
    },
    {
      "cell_type": "code",
      "metadata": {
        "id": "Zp6FMlg2PsSg"
      },
      "source": [
        "model = dt.fit(traindata)"
      ],
      "execution_count": null,
      "outputs": []
    },
    {
      "cell_type": "code",
      "metadata": {
        "id": "Td1HKOz2PvVO"
      },
      "source": [
        "predictions = model.transform(testdata)"
      ],
      "execution_count": null,
      "outputs": []
    },
    {
      "cell_type": "code",
      "metadata": {
        "colab": {
          "base_uri": "https://localhost:8080/"
        },
        "id": "P71R4fdHPxUC",
        "outputId": "fa65e596-4aba-413c-b318-585cb58a5347"
      },
      "source": [
        "predictions.select(\"features\",\"label\",\"prediction\").show()"
      ],
      "execution_count": null,
      "outputs": [
        {
          "output_type": "stream",
          "text": [
            "+-----------------+-----+----------+\n",
            "|         features|label|prediction|\n",
            "+-----------------+-----+----------+\n",
            "|[4.4,3.0,1.3,0.2]|  0.0|       0.0|\n",
            "|[4.4,3.2,1.3,0.2]|  0.0|       0.0|\n",
            "|[4.6,3.2,1.4,0.2]|  0.0|       0.0|\n",
            "|[4.6,3.4,1.4,0.3]|  0.0|       0.0|\n",
            "|[4.7,3.2,1.3,0.2]|  0.0|       0.0|\n",
            "|[4.8,3.0,1.4,0.1]|  0.0|       0.0|\n",
            "|[4.8,3.0,1.4,0.3]|  0.0|       0.0|\n",
            "|[4.8,3.1,1.6,0.2]|  0.0|       0.0|\n",
            "|[4.8,3.4,1.6,0.2]|  0.0|       0.0|\n",
            "|[4.9,3.0,1.4,0.2]|  0.0|       0.0|\n",
            "|[4.9,3.1,1.5,0.1]|  0.0|       0.0|\n",
            "|[5.0,2.0,3.5,1.0]|  1.0|       1.0|\n",
            "|[5.0,3.0,1.6,0.2]|  0.0|       0.0|\n",
            "|[5.0,3.3,1.4,0.2]|  0.0|       0.0|\n",
            "|[5.1,2.5,3.0,1.1]|  1.0|       1.0|\n",
            "|[5.1,3.5,1.4,0.2]|  0.0|       0.0|\n",
            "|[5.1,3.5,1.4,0.3]|  0.0|       0.0|\n",
            "|[5.1,3.8,1.5,0.3]|  0.0|       0.0|\n",
            "|[5.2,2.7,3.9,1.4]|  1.0|       1.0|\n",
            "|[5.2,3.5,1.5,0.2]|  0.0|       0.0|\n",
            "+-----------------+-----+----------+\n",
            "only showing top 20 rows\n",
            "\n"
          ],
          "name": "stdout"
        }
      ]
    },
    {
      "cell_type": "code",
      "metadata": {
        "colab": {
          "base_uri": "https://localhost:8080/"
        },
        "id": "k30aldtdP06m",
        "outputId": "d6a2d44c-7304-43b2-cd34-93e1d5d4e0ea"
      },
      "source": [
        "evaluator = MulticlassClassificationEvaluator(labelCol=\"label\", predictionCol=\"prediction\", metricName=\"accuracy\")\n",
        "accuracy = evaluator.evaluate(predictions)\n",
        "print(\"Test Error:\",1- accuracy)"
      ],
      "execution_count": null,
      "outputs": [
        {
          "output_type": "stream",
          "text": [
            "Test Error: 0.03703703703703709\n"
          ],
          "name": "stdout"
        }
      ]
    },
    {
      "cell_type": "code",
      "metadata": {
        "id": "ukt4454EQJO2"
      },
      "source": [
        "y_pred = predictions.select([\"prediction\"]).collect()\n",
        "y_test = predictions.select([\"label\"]).collect()"
      ],
      "execution_count": null,
      "outputs": []
    },
    {
      "cell_type": "code",
      "metadata": {
        "colab": {
          "base_uri": "https://localhost:8080/",
          "height": 449
        },
        "id": "m2WU86pNQM53",
        "outputId": "746db65b-caf4-490c-bd33-df5b125b2c15"
      },
      "source": [
        "print(classification_report(y_test,y_pred))\n",
        "matrix = confusion_matrix(y_test,y_pred)\n",
        "fig,ax = plot_confusion_matrix(conf_mat=matrix)\n",
        "plt.show()"
      ],
      "execution_count": null,
      "outputs": [
        {
          "output_type": "stream",
          "text": [
            "              precision    recall  f1-score   support\n",
            "\n",
            "         0.0       1.00      1.00      1.00        23\n",
            "         1.0       0.94      0.94      0.94        16\n",
            "         2.0       0.93      0.93      0.93        15\n",
            "\n",
            "    accuracy                           0.96        54\n",
            "   macro avg       0.96      0.96      0.96        54\n",
            "weighted avg       0.96      0.96      0.96        54\n",
            "\n"
          ],
          "name": "stdout"
        },
        {
          "output_type": "display_data",
          "data": {
            "image/png": "[encoded data removed]",
            "text/plain": [
              "<Figure size 432x288 with 1 Axes>"
            ]
          },
          "metadata": {
            "tags": [],
            "needs_background": "light"
          }
        }
      ]
    },
    {
      "cell_type": "markdown",
      "metadata": {
        "id": "15IuZ_EaxgTz"
      },
      "source": [
        "# Combined Cycle Power Plant"
      ]
    },
    {
      "cell_type": "markdown",
      "metadata": {
        "id": "QgX6q2sUxHlB"
      },
      "source": [
        "\n",
        "The dataset contains 9568 data points collected from a Combined Cycle Power Plant over 6 years (2006-2011), when the power plant was set to work with full load. Features consist of hourly average ambient variables Temperature (T), Ambient Pressure (AP), Relative Humidity (RH) and Exhaust Vacuum (V) to predict the net hourly electrical energy output (EP) of the plant.\n",
        "A combined cycle power plant (CCPP) is composed of gas turbines (GT), steam turbines (ST) and heat recovery steam generators. In a CCPP, the electricity is generated by gas and steam turbines, which are combined in one cycle, and is transferred from one turbine to another. While the Vacuum is colected from and has effect on the Steam Turbine, he other three of the ambient variables effect the GT performance.\n",
        "For comparability with our baseline studies, and to allow 5x2 fold statistical tests be carried out, we provide the data shuffled five times. For each shuffling 2-fold CV is carried out and the resulting 10 measurements are used for statistical testing.\n",
        "We provide the data both in .ods and in .xlsx formats."
      ]
    },
    {
      "cell_type": "markdown",
      "metadata": {
        "id": "orvmwjTIxYIr"
      },
      "source": [
        "**Attribute Information:**\n",
        "\n",
        "Features consist of hourly average ambient variables\n",
        "- Temperature (T) in the range 1.81°C and 37.11°C,\n",
        "- Ambient Pressure (AP) in the range 992.89-1033.30 milibar,\n",
        "- Relative Humidity (RH) in the range 25.56% to 100.16%\n",
        "- Exhaust Vacuum (V) in teh range 25.36-81.56 cm Hg\n",
        "- Net hourly electrical energy output (EP) 420.26-495.76 MW\n",
        "The averages are taken from various sensors located around the plant that record the ambient variables every second. The variables are given without normalization."
      ]
    },
    {
      "cell_type": "code",
      "metadata": {
        "colab": {
          "base_uri": "https://localhost:8080/"
        },
        "id": "3dZlJWiKVRqe",
        "outputId": "57b8789b-bbad-4251-915e-7bcfef1c85a2"
      },
      "source": [
        "!wget http://archive.ics.uci.edu/ml/machine-learning-databases/00294/CCPP.zip"
      ],
      "execution_count": null,
      "outputs": [
        {
          "output_type": "stream",
          "text": [
            "--2021-04-24 19:56:47--  http://archive.ics.uci.edu/ml/machine-learning-databases/00294/CCPP.zip\n",
            "Resolving archive.ics.uci.edu (archive.ics.uci.edu)... 128.195.10.252\n",
            "Connecting to archive.ics.uci.edu (archive.ics.uci.edu)|128.195.10.252|:80... connected.\n",
            "HTTP request sent, awaiting response... 200 OK\n",
            "Length: 3674852 (3.5M) [application/x-httpd-php]\n",
            "Saving to: ‘CCPP.zip’\n",
            "\n",
            "CCPP.zip            100%[===================>]   3.50M  5.78MB/s    in 0.6s    \n",
            "\n",
            "2021-04-24 19:56:48 (5.78 MB/s) - ‘CCPP.zip’ saved [3674852/3674852]\n",
            "\n"
          ],
          "name": "stdout"
        }
      ]
    },
    {
      "cell_type": "code",
      "metadata": {
        "colab": {
          "base_uri": "https://localhost:8080/"
        },
        "id": "oYzF8P37dOT9",
        "outputId": "abe54bf2-09f5-4fcd-eaef-9cca9129ac24"
      },
      "source": [
        "!unzip '/content/CCPP.zip'"
      ],
      "execution_count": null,
      "outputs": [
        {
          "output_type": "stream",
          "text": [
            "Archive:  /content/CCPP.zip\n",
            "   creating: CCPP/\n",
            "  inflating: CCPP/Folds5x2_pp.ods    \n",
            "  inflating: CCPP/Folds5x2_pp.xlsx   \n",
            "  inflating: CCPP/Readme.txt         \n",
            "  inflating: CCPP/Readme.txt~        \n"
          ],
          "name": "stdout"
        }
      ]
    },
    {
      "cell_type": "code",
      "metadata": {
        "id": "kmDiP0pQdY0k"
      },
      "source": [
        "!rm '/content/CCPP.zip'"
      ],
      "execution_count": null,
      "outputs": []
    },
    {
      "cell_type": "code",
      "metadata": {
        "id": "R_TJHYL3dbuY",
        "colab": {
          "base_uri": "https://localhost:8080/"
        },
        "outputId": "f612c83f-a5c6-46e7-e691-28ca94ed8497"
      },
      "source": [
        "%cd ./CCPP"
      ],
      "execution_count": null,
      "outputs": [
        {
          "output_type": "stream",
          "text": [
            "/content/CCPP\n"
          ],
          "name": "stdout"
        }
      ]
    },
    {
      "cell_type": "code",
      "metadata": {
        "id": "hAJyXoE4dfrI"
      },
      "source": [
        "!rm Readme.txt & rm Folds5x2_pp.ods"
      ],
      "execution_count": 82,
      "outputs": []
    },
    {
      "cell_type": "code",
      "metadata": {
        "id": "njKozd1T0LFA"
      },
      "source": [
        "import pandas as pd"
      ],
      "execution_count": 83,
      "outputs": []
    },
    {
      "cell_type": "code",
      "metadata": {
        "colab": {
          "base_uri": "https://localhost:8080/",
          "height": 204
        },
        "id": "TfnGxyUB0k6e",
        "outputId": "8a7aa29d-e728-4db9-ff30-213d5a6565de"
      },
      "source": [
        "excel_df = pd.read_excel('/content/CCPP/Folds5x2_pp.xlsx',sheet_name='Sheet1',header=0)\n",
        "excel_df.head()"
      ],
      "execution_count": 87,
      "outputs": [
        {
          "output_type": "execute_result",
          "data": {
            "text/html": [
              "<div>\n",
              "<style scoped>\n",
              "    .dataframe tbody tr th:only-of-type {\n",
              "        vertical-align: middle;\n",
              "    }\n",
              "\n",
              "    .dataframe tbody tr th {\n",
              "        vertical-align: top;\n",
              "    }\n",
              "\n",
              "    .dataframe thead th {\n",
              "        text-align: right;\n",
              "    }\n",
              "</style>\n",
              "<table border=\"1\" class=\"dataframe\">\n",
              "  <thead>\n",
              "    <tr style=\"text-align: right;\">\n",
              "      <th></th>\n",
              "      <th>AT</th>\n",
              "      <th>V</th>\n",
              "      <th>AP</th>\n",
              "      <th>RH</th>\n",
              "      <th>PE</th>\n",
              "    </tr>\n",
              "  </thead>\n",
              "  <tbody>\n",
              "    <tr>\n",
              "      <th>0</th>\n",
              "      <td>14.96</td>\n",
              "      <td>41.76</td>\n",
              "      <td>1024.07</td>\n",
              "      <td>73.17</td>\n",
              "      <td>463.26</td>\n",
              "    </tr>\n",
              "    <tr>\n",
              "      <th>1</th>\n",
              "      <td>25.18</td>\n",
              "      <td>62.96</td>\n",
              "      <td>1020.04</td>\n",
              "      <td>59.08</td>\n",
              "      <td>444.37</td>\n",
              "    </tr>\n",
              "    <tr>\n",
              "      <th>2</th>\n",
              "      <td>5.11</td>\n",
              "      <td>39.40</td>\n",
              "      <td>1012.16</td>\n",
              "      <td>92.14</td>\n",
              "      <td>488.56</td>\n",
              "    </tr>\n",
              "    <tr>\n",
              "      <th>3</th>\n",
              "      <td>20.86</td>\n",
              "      <td>57.32</td>\n",
              "      <td>1010.24</td>\n",
              "      <td>76.64</td>\n",
              "      <td>446.48</td>\n",
              "    </tr>\n",
              "    <tr>\n",
              "      <th>4</th>\n",
              "      <td>10.82</td>\n",
              "      <td>37.50</td>\n",
              "      <td>1009.23</td>\n",
              "      <td>96.62</td>\n",
              "      <td>473.90</td>\n",
              "    </tr>\n",
              "  </tbody>\n",
              "</table>\n",
              "</div>"
            ],
            "text/plain": [
              "      AT      V       AP     RH      PE\n",
              "0  14.96  41.76  1024.07  73.17  463.26\n",
              "1  25.18  62.96  1020.04  59.08  444.37\n",
              "2   5.11  39.40  1012.16  92.14  488.56\n",
              "3  20.86  57.32  1010.24  76.64  446.48\n",
              "4  10.82  37.50  1009.23  96.62  473.90"
            ]
          },
          "metadata": {
            "tags": []
          },
          "execution_count": 87
        }
      ]
    },
    {
      "cell_type": "code",
      "metadata": {
        "colab": {
          "base_uri": "https://localhost:8080/"
        },
        "id": "6009SVmR16CL",
        "outputId": "efcf24f6-9599-47b4-c0b7-ee51beb1611c"
      },
      "source": [
        "excel_df.count()"
      ],
      "execution_count": 88,
      "outputs": [
        {
          "output_type": "execute_result",
          "data": {
            "text/plain": [
              "AT    9568\n",
              "V     9568\n",
              "AP    9568\n",
              "RH    9568\n",
              "PE    9568\n",
              "dtype: int64"
            ]
          },
          "metadata": {
            "tags": []
          },
          "execution_count": 88
        }
      ]
    },
    {
      "cell_type": "code",
      "metadata": {
        "colab": {
          "base_uri": "https://localhost:8080/"
        },
        "id": "ZMQFsgE419lo",
        "outputId": "16c6dc59-ec2b-4735-b372-4568f62629f7"
      },
      "source": [
        "ccpp = spark.createDataFrame(excel_df)\n",
        "ccpp.show()"
      ],
      "execution_count": 89,
      "outputs": [
        {
          "output_type": "stream",
          "text": [
            "+-----+-----+-------+-----+------+\n",
            "|   AT|    V|     AP|   RH|    PE|\n",
            "+-----+-----+-------+-----+------+\n",
            "|14.96|41.76|1024.07|73.17|463.26|\n",
            "|25.18|62.96|1020.04|59.08|444.37|\n",
            "| 5.11| 39.4|1012.16|92.14|488.56|\n",
            "|20.86|57.32|1010.24|76.64|446.48|\n",
            "|10.82| 37.5|1009.23|96.62| 473.9|\n",
            "|26.27|59.44|1012.23|58.77|443.67|\n",
            "|15.89|43.96|1014.02|75.24|467.35|\n",
            "| 9.48|44.71|1019.12|66.43|478.42|\n",
            "|14.64| 45.0|1021.78|41.25|475.98|\n",
            "|11.74|43.56|1015.14|70.72| 477.5|\n",
            "|17.99|43.72|1008.64|75.04|453.02|\n",
            "|20.14|46.93|1014.66|64.22|453.99|\n",
            "|24.34| 73.5|1011.31|84.15|440.29|\n",
            "|25.71|58.59|1012.77|61.83|451.28|\n",
            "|26.19|69.34|1009.48|87.59|433.99|\n",
            "|21.42|43.79|1015.76|43.08|462.19|\n",
            "|18.21| 45.0|1022.86|48.84|467.54|\n",
            "|11.04|41.74| 1022.6|77.51| 477.2|\n",
            "|14.45|52.75|1023.97|63.59|459.85|\n",
            "|13.97|38.47|1015.15|55.28| 464.3|\n",
            "+-----+-----+-------+-----+------+\n",
            "only showing top 20 rows\n",
            "\n"
          ],
          "name": "stdout"
        }
      ]
    },
    {
      "cell_type": "code",
      "metadata": {
        "colab": {
          "base_uri": "https://localhost:8080/"
        },
        "id": "AWNYFjox2JKG",
        "outputId": "47ee9bf8-a538-40c1-f4d7-e2e975d24a0d"
      },
      "source": [
        "ccpp.printSchema()"
      ],
      "execution_count": 92,
      "outputs": [
        {
          "output_type": "stream",
          "text": [
            "root\n",
            " |-- AT: double (nullable = true)\n",
            " |-- V: double (nullable = true)\n",
            " |-- AP: double (nullable = true)\n",
            " |-- RH: double (nullable = true)\n",
            " |-- PE: double (nullable = true)\n",
            "\n"
          ],
          "name": "stdout"
        }
      ]
    },
    {
      "cell_type": "code",
      "metadata": {
        "colab": {
          "base_uri": "https://localhost:8080/"
        },
        "id": "UrtP_FdO3HhW",
        "outputId": "06ea63e7-dbd8-477f-cb7c-da98c3eea97f"
      },
      "source": [
        "ccpp_feat = VectorAssembler(inputCols=ccpp.columns[:-1],outputCol=\"features\").transform(ccpp)\n",
        "ccpp_feat.show()"
      ],
      "execution_count": 93,
      "outputs": [
        {
          "output_type": "stream",
          "text": [
            "+-----+-----+-------+-----+------+--------------------+\n",
            "|   AT|    V|     AP|   RH|    PE|            features|\n",
            "+-----+-----+-------+-----+------+--------------------+\n",
            "|14.96|41.76|1024.07|73.17|463.26|[14.96,41.76,1024...|\n",
            "|25.18|62.96|1020.04|59.08|444.37|[25.18,62.96,1020...|\n",
            "| 5.11| 39.4|1012.16|92.14|488.56|[5.11,39.4,1012.1...|\n",
            "|20.86|57.32|1010.24|76.64|446.48|[20.86,57.32,1010...|\n",
            "|10.82| 37.5|1009.23|96.62| 473.9|[10.82,37.5,1009....|\n",
            "|26.27|59.44|1012.23|58.77|443.67|[26.27,59.44,1012...|\n",
            "|15.89|43.96|1014.02|75.24|467.35|[15.89,43.96,1014...|\n",
            "| 9.48|44.71|1019.12|66.43|478.42|[9.48,44.71,1019....|\n",
            "|14.64| 45.0|1021.78|41.25|475.98|[14.64,45.0,1021....|\n",
            "|11.74|43.56|1015.14|70.72| 477.5|[11.74,43.56,1015...|\n",
            "|17.99|43.72|1008.64|75.04|453.02|[17.99,43.72,1008...|\n",
            "|20.14|46.93|1014.66|64.22|453.99|[20.14,46.93,1014...|\n",
            "|24.34| 73.5|1011.31|84.15|440.29|[24.34,73.5,1011....|\n",
            "|25.71|58.59|1012.77|61.83|451.28|[25.71,58.59,1012...|\n",
            "|26.19|69.34|1009.48|87.59|433.99|[26.19,69.34,1009...|\n",
            "|21.42|43.79|1015.76|43.08|462.19|[21.42,43.79,1015...|\n",
            "|18.21| 45.0|1022.86|48.84|467.54|[18.21,45.0,1022....|\n",
            "|11.04|41.74| 1022.6|77.51| 477.2|[11.04,41.74,1022...|\n",
            "|14.45|52.75|1023.97|63.59|459.85|[14.45,52.75,1023...|\n",
            "|13.97|38.47|1015.15|55.28| 464.3|[13.97,38.47,1015...|\n",
            "+-----+-----+-------+-----+------+--------------------+\n",
            "only showing top 20 rows\n",
            "\n"
          ],
          "name": "stdout"
        }
      ]
    },
    {
      "cell_type": "markdown",
      "metadata": {
        "id": "v3reiW20UXVO"
      },
      "source": [
        "# Linear regression"
      ]
    },
    {
      "cell_type": "code",
      "metadata": {
        "id": "x_OhSLw-2h5C"
      },
      "source": [
        "from pyspark.ml.regression import LinearRegression"
      ],
      "execution_count": 90,
      "outputs": []
    },
    {
      "cell_type": "code",
      "metadata": {
        "id": "PcEAsTvn4M4e"
      },
      "source": [
        "lr = LinearRegression(labelCol=\"PE\",featuresCol=\"features\")"
      ],
      "execution_count": 95,
      "outputs": []
    },
    {
      "cell_type": "code",
      "metadata": {
        "id": "cUyAsCd44S4q"
      },
      "source": [
        "model_lr = lr.fit(ccpp_feat)"
      ],
      "execution_count": 106,
      "outputs": []
    },
    {
      "cell_type": "code",
      "metadata": {
        "colab": {
          "base_uri": "https://localhost:8080/"
        },
        "id": "7LybynYf5LG0",
        "outputId": "5565001f-7018-40b8-a728-dc4a3e0df1b7"
      },
      "source": [
        "model_lr.coefficients"
      ],
      "execution_count": 107,
      "outputs": [
        {
          "output_type": "execute_result",
          "data": {
            "text/plain": [
              "DenseVector([-1.9775, -0.2339, 0.0621, -0.1581])"
            ]
          },
          "metadata": {
            "tags": []
          },
          "execution_count": 107
        }
      ]
    },
    {
      "cell_type": "code",
      "metadata": {
        "colab": {
          "base_uri": "https://localhost:8080/"
        },
        "id": "3PrAlwCB5T2U",
        "outputId": "b7c37b57-df05-4977-afca-d96b33ecfea1"
      },
      "source": [
        "model_lr.intercept"
      ],
      "execution_count": 108,
      "outputs": [
        {
          "output_type": "execute_result",
          "data": {
            "text/plain": [
              "454.6092743819712"
            ]
          },
          "metadata": {
            "tags": []
          },
          "execution_count": 108
        }
      ]
    },
    {
      "cell_type": "code",
      "metadata": {
        "colab": {
          "base_uri": "https://localhost:8080/"
        },
        "id": "bGwd_stD5gZJ",
        "outputId": "6f72b24f-c799-4aa9-a331-0c84b8dc0b5a"
      },
      "source": [
        "model_lr.summary.rootMeanSquaredError"
      ],
      "execution_count": 109,
      "outputs": [
        {
          "output_type": "execute_result",
          "data": {
            "text/plain": [
              "4.557126016749486"
            ]
          },
          "metadata": {
            "tags": []
          },
          "execution_count": 109
        }
      ]
    },
    {
      "cell_type": "code",
      "metadata": {
        "id": "4Z1NnO2y6SgY"
      },
      "source": [
        "model_lr.save('lr.model')"
      ],
      "execution_count": 110,
      "outputs": []
    },
    {
      "cell_type": "markdown",
      "metadata": {
        "id": "Q1BN8S7xUbph"
      },
      "source": [
        "# Decision tree Regression"
      ]
    },
    {
      "cell_type": "code",
      "metadata": {
        "id": "xhiszKE2-TPM"
      },
      "source": [
        "(traindata,testdata) = ccpp_feat.randomSplit([0.7,0.3],3)"
      ],
      "execution_count": 116,
      "outputs": []
    },
    {
      "cell_type": "code",
      "metadata": {
        "id": "430xK2k99ahp"
      },
      "source": [
        "from pyspark.ml.regression import DecisionTreeRegressor"
      ],
      "execution_count": 117,
      "outputs": []
    },
    {
      "cell_type": "code",
      "metadata": {
        "id": "cgy4uKC89jtd"
      },
      "source": [
        "dtr = DecisionTreeRegressor(labelCol=\"PE\",featuresCol=\"features\")"
      ],
      "execution_count": 118,
      "outputs": []
    },
    {
      "cell_type": "code",
      "metadata": {
        "id": "7p-2p8ES9osv"
      },
      "source": [
        "model_dtr = dtr.fit(traindata)"
      ],
      "execution_count": 119,
      "outputs": []
    },
    {
      "cell_type": "code",
      "metadata": {
        "id": "grhigaUE-1t2"
      },
      "source": [
        "predictions = model_dtr.transform(testdata)"
      ],
      "execution_count": 120,
      "outputs": []
    },
    {
      "cell_type": "code",
      "metadata": {
        "colab": {
          "base_uri": "https://localhost:8080/"
        },
        "id": "RAvIVcW6-9-D",
        "outputId": "f830d851-dff2-4fbe-899f-6fdf1a8112e5"
      },
      "source": [
        "predictions.select(\"features\",\"PE\",\"prediction\").show()"
      ],
      "execution_count": 121,
      "outputs": [
        {
          "output_type": "stream",
          "text": [
            "+--------------------+------+-----------------+\n",
            "|            features|    PE|       prediction|\n",
            "+--------------------+------+-----------------+\n",
            "|[3.0,39.64,1011.0...| 485.2|486.8385326086957|\n",
            "|[3.26,41.31,996.3...|489.38|486.8385326086957|\n",
            "|[3.38,41.31,998.7...|489.11|486.8385326086957|\n",
            "|[3.6,35.19,1018.7...|488.98|486.8385326086957|\n",
            "|[3.82,35.47,1016....|489.04|486.8385326086957|\n",
            "|[3.91,35.47,1016....|488.67|486.8385326086957|\n",
            "|[3.94,39.9,1008.0...|488.81|486.8385326086957|\n",
            "|[3.95,38.44,1016....|492.46|486.8385326086957|\n",
            "|[3.96,35.47,1016....|489.68|486.8385326086957|\n",
            "|[4.08,35.19,1018....|489.44|486.8385326086957|\n",
            "|[4.11,38.44,1015....|488.05|486.8385326086957|\n",
            "|[4.24,39.9,1009.2...|491.25|486.8385326086957|\n",
            "|[4.31,38.5,1011.7...|492.92|486.8385326086957|\n",
            "|[4.41,42.07,1005....|488.36|486.8385326086957|\n",
            "|[4.62,38.44,1016....|486.84|486.8385326086957|\n",
            "|[4.73,41.31,999.7...| 486.6|486.8385326086957|\n",
            "|[4.77,39.33,1011....|494.91|486.8385326086957|\n",
            "|[4.83,38.44,1015....|485.32|486.8385326086957|\n",
            "|[4.88,40.27,1012....|491.29|486.8385326086957|\n",
            "|[4.96,40.07,1011....|494.75|486.8385326086957|\n",
            "+--------------------+------+-----------------+\n",
            "only showing top 20 rows\n",
            "\n"
          ],
          "name": "stdout"
        }
      ]
    },
    {
      "cell_type": "code",
      "metadata": {
        "id": "Ob-3_J75947Z"
      },
      "source": [
        "from pyspark.ml.evaluation import RegressionEvaluator"
      ],
      "execution_count": 122,
      "outputs": []
    },
    {
      "cell_type": "code",
      "metadata": {
        "colab": {
          "base_uri": "https://localhost:8080/"
        },
        "id": "kt8dt9NY_SJd",
        "outputId": "65c32590-3984-43d3-b716-d982b19b10f5"
      },
      "source": [
        "dtr_eval = RegressionEvaluator(labelCol=\"PE\",predictionCol=\"prediction\",metricName=\"rmse\")\n",
        "rmse = dtr_eval.evaluate(predictions)\n",
        "rmse"
      ],
      "execution_count": 123,
      "outputs": [
        {
          "output_type": "execute_result",
          "data": {
            "text/plain": [
              "4.637566014056199"
            ]
          },
          "metadata": {
            "tags": []
          },
          "execution_count": 123
        }
      ]
    },
    {
      "cell_type": "markdown",
      "metadata": {
        "id": "iXcDOnePUiLD"
      },
      "source": [
        "#Gradient-boosted tree regression"
      ]
    },
    {
      "cell_type": "code",
      "metadata": {
        "id": "dT48QMPB_-r-"
      },
      "source": [
        "from pyspark.ml.regression import GBTRegressor"
      ],
      "execution_count": 125,
      "outputs": []
    },
    {
      "cell_type": "code",
      "metadata": {
        "id": "OnLlL9uYAOPv"
      },
      "source": [
        "gbt = GBTRegressor(labelCol=\"PE\",featuresCol=\"features\")"
      ],
      "execution_count": 126,
      "outputs": []
    },
    {
      "cell_type": "code",
      "metadata": {
        "id": "KtagmKlyAUsv"
      },
      "source": [
        "model_gbt = gbt.fit(traindata)"
      ],
      "execution_count": 127,
      "outputs": []
    },
    {
      "cell_type": "code",
      "metadata": {
        "id": "AgZwpySqAeVS"
      },
      "source": [
        "predictions = model_gbt.transform(testdata)"
      ],
      "execution_count": 128,
      "outputs": []
    },
    {
      "cell_type": "code",
      "metadata": {
        "colab": {
          "base_uri": "https://localhost:8080/"
        },
        "id": "U2mCp901AiUv",
        "outputId": "ba6b86e8-42bf-40b9-ee29-8dc5ab9ad769"
      },
      "source": [
        "predictions.select(\"features\",\"PE\",\"prediction\").show()"
      ],
      "execution_count": 129,
      "outputs": [
        {
          "output_type": "stream",
          "text": [
            "+--------------------+------+------------------+\n",
            "|            features|    PE|        prediction|\n",
            "+--------------------+------+------------------+\n",
            "|[3.0,39.64,1011.0...| 485.2|488.06499449234906|\n",
            "|[3.26,41.31,996.3...|489.38|  487.115727891232|\n",
            "|[3.38,41.31,998.7...|489.11|  487.115727891232|\n",
            "|[3.6,35.19,1018.7...|488.98| 487.0330361902605|\n",
            "|[3.82,35.47,1016....|489.04|  486.917083111445|\n",
            "|[3.91,35.47,1016....|488.67|  486.917083111445|\n",
            "|[3.94,39.9,1008.0...|488.81|488.20615385213637|\n",
            "|[3.95,38.44,1016....|492.46|487.70764719969566|\n",
            "|[3.96,35.47,1016....|489.68|  486.917083111445|\n",
            "|[4.08,35.19,1018....|489.44| 487.0330361902605|\n",
            "|[4.11,38.44,1015....|488.05| 488.9251765103536|\n",
            "|[4.24,39.9,1009.2...|491.25|488.20615385213637|\n",
            "|[4.31,38.5,1011.7...|492.92|488.96782748811495|\n",
            "|[4.41,42.07,1005....|488.36| 487.8518305121705|\n",
            "|[4.62,38.44,1016....|486.84| 488.0869036488763|\n",
            "|[4.73,41.31,999.7...| 486.6|  487.115727891232|\n",
            "|[4.77,39.33,1011....|494.91| 488.8544549073517|\n",
            "|[4.83,38.44,1015....|485.32| 488.1295546266376|\n",
            "|[4.88,40.27,1012....|491.29|490.69781441135126|\n",
            "|[4.96,40.07,1011....|494.75| 491.8081035134969|\n",
            "+--------------------+------+------------------+\n",
            "only showing top 20 rows\n",
            "\n"
          ],
          "name": "stdout"
        }
      ]
    },
    {
      "cell_type": "code",
      "metadata": {
        "colab": {
          "base_uri": "https://localhost:8080/"
        },
        "id": "zFnAMCdEAmVs",
        "outputId": "bbb06ed3-c670-4bd8-ca9a-6eaac57d337a"
      },
      "source": [
        "gbt_eval = RegressionEvaluator(labelCol=\"PE\",predictionCol=\"prediction\",metricName=\"rmse\")\n",
        "rmse = gbt_eval.evaluate(predictions)\n",
        "rmse #menor é melhor"
      ],
      "execution_count": 131,
      "outputs": [
        {
          "output_type": "execute_result",
          "data": {
            "text/plain": [
              "4.277159215907455"
            ]
          },
          "metadata": {
            "tags": []
          },
          "execution_count": 131
        }
      ]
    }
  ]
}